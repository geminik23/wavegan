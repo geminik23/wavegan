{
 "cells": [
  {
   "cell_type": "code",
   "execution_count": 1,
   "metadata": {},
   "outputs": [],
   "source": [
    "import os\n",
    "import numpy as np\n",
    "import torch\n",
    "from torch.optim import Adam\n",
    "import matplotlib.pyplot as plt\n",
    "from torch.utils.data import DataLoader\n",
    "from datasets import get_speechcommand_dataset\n",
    "from config import Config\n",
    "from model import WaveGanDiscriminator, WaveGanGenerator\n",
    "from trains import train_wgan_gp"
   ]
  },
  {
   "cell_type": "code",
   "execution_count": 2,
   "metadata": {},
   "outputs": [],
   "source": [
    "config = Config()\n",
    "result_dir = 'results'\n",
    "os.makedirs(result_dir, exist_ok=True)\n",
    "os.makedirs(config.checkpoint_dir, exist_ok=True)"
   ]
  },
  {
   "cell_type": "code",
   "execution_count": 3,
   "metadata": {},
   "outputs": [],
   "source": [
    "sc_train, _ = get_speechcommand_dataset(config, config.audio_length)\n",
    "train_loader = DataLoader(sc_train, batch_size=config.batch_size, pin_memory=True, shuffle=True, num_workers=config.num_workers)"
   ]
  },
  {
   "cell_type": "code",
   "execution_count": 4,
   "metadata": {},
   "outputs": [
    {
     "name": "stdout",
     "output_type": "stream",
     "text": [
      "cuda\n"
     ]
    }
   ],
   "source": [
    "device = torch.device('cuda' if torch.cuda.is_available() else 'cpu')\n",
    "print(device)"
   ]
  },
  {
   "cell_type": "code",
   "execution_count": 5,
   "metadata": {},
   "outputs": [],
   "source": [
    "G = WaveGanGenerator(config.latent_size, config.model_size, out_channels=config.audio_channel)\n",
    "D = WaveGanDiscriminator(config.audio_channel, config.model_size, phase_shift=config.phase_shift_factor)\n",
    "optimizer_g = Adam(G.parameters(), lr=config.g_lr, betas=config.adam_betas)\n",
    "optimizer_d = Adam(D.parameters(), lr=config.d_lr, betas=config.adam_betas)"
   ]
  },
  {
   "cell_type": "code",
   "execution_count": null,
   "metadata": {},
   "outputs": [],
   "source": [
    "g_losses, d_losses = train_wgan_gp(os.path.join(config.checkpoint_dir, config.checkpoint_file_template), \n",
    "                          G, D, config.latent_size, optimizer_g, optimizer_d, train_loader,\n",
    "                          epochs=config.epochs, cp_interval=config.checkpoint_interval, device=device)"
   ]
  },
  {
   "cell_type": "code",
   "execution_count": null,
   "metadata": {},
   "outputs": [],
   "source": [
    "plt.figure(figsize=(10,5))\n",
    "plt.title('Conditional WaveGAN Generator and Discriminator Losses')\n",
    "plt.plot(g_losses ,label='G') \n",
    "plt.plot(d_losses ,label='D')\n",
    "plt.xlabel('iterations')\n",
    "plt.ylabel('Loss')\n",
    "plt.legend()\n",
    "plt.show()"
   ]
  },
  {
   "cell_type": "code",
   "execution_count": null,
   "metadata": {},
   "outputs": [],
   "source": []
  }
 ],
 "metadata": {
  "kernelspec": {
   "display_name": "Python 3.9.7 ('base')",
   "language": "python",
   "name": "python3"
  },
  "language_info": {
   "codemirror_mode": {
    "name": "ipython",
    "version": 3
   },
   "file_extension": ".py",
   "mimetype": "text/x-python",
   "name": "python",
   "nbconvert_exporter": "python",
   "pygments_lexer": "ipython3",
   "version": "3.9.7"
  },
  "vscode": {
   "interpreter": {
    "hash": "11b29b0310db0059823682c46597dd42af12889b09ee40e1bff7f56965d14a07"
   }
  }
 },
 "nbformat": 4,
 "nbformat_minor": 2
}
